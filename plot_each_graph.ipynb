{
 "cells": [
  {
   "cell_type": "code",
   "execution_count": 1,
   "metadata": {},
   "outputs": [],
   "source": [
    "import networkx as nx\n",
    "import numpy as np\n",
    "from spenet import slq_spenet, ste_spenet, exact_spenet\n",
    "from utils import load_graph, rodger_graphs, weighted_graphs, unweighted_graphs, relative_error\n",
    "import os\n",
    "import pandas as pd\n",
    "import matplotlib.pyplot as plt\n",
    "import seaborn as sns"
   ]
  },
  {
   "cell_type": "code",
   "execution_count": 2,
   "metadata": {},
   "outputs": [],
   "source": [
    "step = 10\n",
    "nv = 100\n",
    "avg = 10"
   ]
  },
  {
   "cell_type": "markdown",
   "metadata": {},
   "source": [
    "# 各グラフについて k=4 のとき"
   ]
  },
  {
   "cell_type": "code",
   "execution_count": 3,
   "metadata": {},
   "outputs": [],
   "source": [
    "k = 4"
   ]
  },
  {
   "cell_type": "code",
   "execution_count": 10,
   "metadata": {},
   "outputs": [
    {
     "name": "stdout",
     "output_type": "stream",
     "text": [
      "path:data/networkrepository/bio/bio-celegans/bio-celegans.mtx, n:453, m:2025\n",
      "path:data/networkrepository/bio/bio-celegans-dir/bio-celegans-dir.edges, n:453, m:2040\n",
      "path:data/networkrepository/bio/bio-diseasome/bio-diseasome.mtx, n:516, m:1188\n",
      "path:data/networkrepository/cheminformatics/ENZYMES_g295/ENZYMES_g295.edges, n:123, m:139\n",
      "path:data/networkrepository/cheminformatics/ENZYMES_g296/ENZYMES_g296.edges, n:125, m:141\n",
      "path:data/networkrepository/cheminformatics/ENZYMES_g297/ENZYMES_g297.edges, n:121, m:149\n",
      "path:data/networkrepository/interaction/ia-crime-moreno/ia-crime-moreno.edges, n:829, m:1475\n",
      "path:data/networkrepository/interaction/ia-email-univ/ia-email-univ.mtx, n:1133, m:5451\n",
      "path:data/networkrepository/interaction/ia-enron-only/ia-enron-only.mtx, n:143, m:623\n",
      "path:data/networkrepository/interaction/ia-fb-messages/ia-fb-messages.mtx, n:1266, m:6451\n",
      "path:data/networkrepository/interaction/ia-infect-dublin/ia-infect-dublin.mtx, n:410, m:2765\n",
      "path:data/networkrepository/interaction/ia-infect-hyper/ia-infect-hyper.mtx, n:113, m:2196\n",
      "path:data/networkrepository/miscellaneous/adjnoun/adjnoun.mtx, n:112, m:425\n",
      "path:data/networkrepository/miscellaneous/bcspwr03/bcspwr03.mtx, n:118, m:297\n",
      "path:data/networkrepository/miscellaneous/bibd_9_5/bibd_9_5.mtx, n:126, m:1217\n",
      "path:data/networkrepository/miscellaneous/can_144/can_144.mtx, n:144, m:720\n",
      "path:data/networkrepository/miscellaneous/polbooks/polbooks.mtx, n:105, m:441\n",
      "path:data/networkrepository/miscellaneous/flower_4_1/flower_4_1.mtx, n:129, m:380\n",
      "path:data/networkrepository/miscellaneous/fs-adjnoun_adj_copperfield/fs-adjnoun_adj_copperfield.edges, n:112, m:425\n",
      "path:data/networkrepository/miscellaneous/GD06_theory/GD06_theory.mtx, n:101, m:190\n",
      "path:data/networkrepository/miscellaneous/GD96_b/GD96_b.mtx, n:111, m:193\n",
      "path:data/networkrepository/miscellaneous/GD98_b/GD98_b.mtx, n:121, m:132\n",
      "path:data/networkrepository/miscellaneous/GD98_c/GD98_c.mtx, n:112, m:168\n",
      "path:data/networkrepository/miscellaneous/GD99_c/GD99_c.mtx, n:105, m:120\n",
      "path:data/networkrepository/miscellaneous/gent113/gent113.mtx, n:113, m:639\n",
      "path:data/networkrepository/bio/bio-CE-GT/bio-CE-GT.edges, n:924, m:3239\n",
      "path:data/networkrepository/bio/bio-CE-LC/bio-CE-LC.edges, n:1387, m:1648\n",
      "path:data/networkrepository/bio/bio-DM-LC/bio-DM-LC.edges, n:658, m:1129\n",
      "path:data/networkrepository/bio/bio-SC-TS/bio-SC-TS.edges, n:636, m:3959\n",
      "path:data/networkrepository/miscellaneous/eco-florida/eco-florida.edges, n:128, m:2075\n",
      "path:data/networkrepository/miscellaneous/eco-foodweb-baydry/eco-foodweb-baydry.edges, n:128, m:2106\n",
      "path:data/networkrepository/miscellaneous/gre_115/gre_115.mtx, n:115, m:382\n",
      "path:data/networkrepository/miscellaneous/gre_185/gre_185.mtx, n:185, m:835\n",
      "path:data/networkrepository/miscellaneous/IG5-7/IG5-7.mtx, n:136, m:549\n",
      "path:data/networkrepository/miscellaneous/jazz/jazz.mtx, n:198, m:2742\n",
      "path:data/networkrepository/miscellaneous/misc-football/misc-football.mtx, n:115, m:612\n",
      "path:data/networkrepository/miscellaneous/rw136/rw136.mtx, n:136, m:373\n",
      "path:data/networkrepository/miscellaneous/TF10/TF10.mtx, n:107, m:579\n",
      "path:data/networkrepository/miscellaneous/Trefethen_150/Trefethen_150.mtx, n:150, m:1095\n",
      "path:data/networkrepository/miscellaneous/Trefethen_200b/Trefethen_200b.mtx, n:199, m:1536\n"
     ]
    }
   ],
   "source": [
    "def add_relative_error(df, G, now_id):\n",
    "    gtypes = [\"normalized_laplacian\", \"laplacian\", \"adjacency\"]\n",
    "    for gtype in gtypes:\n",
    "        if gtype == \"normalized_laplacian\":\n",
    "            M = nx.normalized_laplacian_matrix(G)\n",
    "        elif gtype == \"laplacian\":\n",
    "            M = nx.laplacian_matrix(G)\n",
    "        elif gtype == \"adjacency\":\n",
    "            M = nx.adjacency_matrix(G)\n",
    "        \n",
    "        errors = []\n",
    "        exact = exact_spenet(M, k, method=\"prod\")\n",
    "        for seed in range(avg):\n",
    "            #ste = ste_spenet(M, k, nv=nv, seed=seed)\n",
    "            slq = slq_spenet(M, k, step=step, nv=nv, seed=seed)\n",
    "            errors.append(relative_error(slq, exact))\n",
    "        errors = np.array(errors)    \n",
    "        df = df.append({\"id\":now_id, \"relative_error\":errors.mean(), \"k\":k, \"matrix\":gtype},ignore_index=True)\n",
    "    return df\n",
    "\n",
    "df = pd.DataFrame(columns=[\"id\", \"relative_error\", \"k\", \"matrix\"])\n",
    "\n",
    "now_id = 0\n",
    "# unweighted_graphs\n",
    "is_weighted = False\n",
    "for path in unweighted_graphs:\n",
    "    G = load_graph(path, is_weighted)\n",
    "    n = G.number_of_nodes()\n",
    "    m = G.number_of_edges()\n",
    "    print(f\"now_id:{now_id}, path:{path}, n:{n}, m:{m}\")\n",
    "    df = add_relative_error(df, G, now_id)\n",
    "    now_id += 1\n",
    "\n",
    "\"\"\"\n",
    "# rodger_graphs\n",
    "is_weighted = False\n",
    "for path in rodger_graphs:\n",
    "    G = load_graph(path, is_weighted)\n",
    "    n = G.number_of_nodes()\n",
    "    m = G.number_of_edges()\n",
    "    print(f\"now_id:{now_id}, path:{path}, n:{n}, m:{m}\")\n",
    "    df = add_relative_error(df, G, now_id)\n",
    "    now_id += 1\n",
    "\"\"\"\n",
    "\n",
    "# weighted_graphs\n",
    "is_weighted = True\n",
    "for path in weighted_graphs:\n",
    "    G = load_graph(path, is_weighted)\n",
    "    n = G.number_of_nodes()\n",
    "    m = G.number_of_edges()\n",
    "    print(f\"now_id:{now_id}, path:{path}, n:{n}, m:{m}\")\n",
    "    df = add_relative_error(df, G, now_id)\n",
    "    now_id += 1\n",
    "\n",
    "\n"
   ]
  },
  {
   "cell_type": "code",
   "execution_count": 11,
   "metadata": {},
   "outputs": [
    {
     "data": {
      "text/html": [
       "<div>\n",
       "<style scoped>\n",
       "    .dataframe tbody tr th:only-of-type {\n",
       "        vertical-align: middle;\n",
       "    }\n",
       "\n",
       "    .dataframe tbody tr th {\n",
       "        vertical-align: top;\n",
       "    }\n",
       "\n",
       "    .dataframe thead th {\n",
       "        text-align: right;\n",
       "    }\n",
       "</style>\n",
       "<table border=\"1\" class=\"dataframe\">\n",
       "  <thead>\n",
       "    <tr style=\"text-align: right;\">\n",
       "      <th></th>\n",
       "      <th>id</th>\n",
       "      <th>relative_error</th>\n",
       "      <th>k</th>\n",
       "      <th>matrix</th>\n",
       "    </tr>\n",
       "  </thead>\n",
       "  <tbody>\n",
       "    <tr>\n",
       "      <th>0</th>\n",
       "      <td>0</td>\n",
       "      <td>0.003762</td>\n",
       "      <td>4</td>\n",
       "      <td>normalized_laplacian</td>\n",
       "    </tr>\n",
       "    <tr>\n",
       "      <th>1</th>\n",
       "      <td>0</td>\n",
       "      <td>0.091421</td>\n",
       "      <td>4</td>\n",
       "      <td>laplacian</td>\n",
       "    </tr>\n",
       "    <tr>\n",
       "      <th>2</th>\n",
       "      <td>0</td>\n",
       "      <td>0.101652</td>\n",
       "      <td>4</td>\n",
       "      <td>adjacency</td>\n",
       "    </tr>\n",
       "    <tr>\n",
       "      <th>3</th>\n",
       "      <td>1</td>\n",
       "      <td>0.004895</td>\n",
       "      <td>4</td>\n",
       "      <td>normalized_laplacian</td>\n",
       "    </tr>\n",
       "    <tr>\n",
       "      <th>4</th>\n",
       "      <td>1</td>\n",
       "      <td>0.125919</td>\n",
       "      <td>4</td>\n",
       "      <td>laplacian</td>\n",
       "    </tr>\n",
       "  </tbody>\n",
       "</table>\n",
       "</div>"
      ],
      "text/plain": [
       "  id  relative_error  k                matrix\n",
       "0  0        0.003762  4  normalized_laplacian\n",
       "1  0        0.091421  4             laplacian\n",
       "2  0        0.101652  4             adjacency\n",
       "3  1        0.004895  4  normalized_laplacian\n",
       "4  1        0.125919  4             laplacian"
      ]
     },
     "execution_count": 11,
     "metadata": {},
     "output_type": "execute_result"
    }
   ],
   "source": [
    "df.head()"
   ]
  },
  {
   "cell_type": "code",
   "execution_count": 12,
   "metadata": {},
   "outputs": [
    {
     "data": {
      "image/png": "[encoded data removed]",
      "text/plain": [
       "<Figure size 501.625x360 with 1 Axes>"
      ]
     },
     "metadata": {
      "needs_background": "light"
     },
     "output_type": "display_data"
    }
   ],
   "source": [
    "k = 4\n",
    "tmp_df = df[df[\"k\"]==k]\n",
    "ax = sns.relplot(\n",
    "    data=tmp_df,\n",
    "    x=\"id\", y=\"relative_error\",\n",
    "    hue=\"matrix\", style=\"matrix\"\n",
    ")\n",
    "ax.set(xlabel=\"Graph ID\",ylabel=\"rel. error\", yscale=\"log\", xticks=[]) #\n",
    "plt.savefig(f'plot/plot_each_graph_k{k}.png')\n",
    "plt.show()"
   ]
  },
  {
   "cell_type": "markdown",
   "metadata": {},
   "source": [
    "# k=4.5 のとき"
   ]
  },
  {
   "cell_type": "code",
   "execution_count": 13,
   "metadata": {},
   "outputs": [],
   "source": [
    "k=4.5"
   ]
  },
  {
   "cell_type": "code",
   "execution_count": 26,
   "metadata": {},
   "outputs": [
    {
     "name": "stdout",
     "output_type": "stream",
     "text": [
      "now_id:0, path:data/networkrepository/bio/bio-celegans/bio-celegans.mtx, n:453, m:2025\n",
      "now_id:1, path:data/networkrepository/bio/bio-celegans-dir/bio-celegans-dir.edges, n:453, m:2040\n",
      "now_id:2, path:data/networkrepository/bio/bio-diseasome/bio-diseasome.mtx, n:516, m:1188\n",
      "now_id:3, path:data/networkrepository/cheminformatics/ENZYMES_g295/ENZYMES_g295.edges, n:123, m:139\n",
      "now_id:4, path:data/networkrepository/cheminformatics/ENZYMES_g296/ENZYMES_g296.edges, n:125, m:141\n",
      "now_id:5, path:data/networkrepository/cheminformatics/ENZYMES_g297/ENZYMES_g297.edges, n:121, m:149\n",
      "now_id:6, path:data/networkrepository/interaction/ia-crime-moreno/ia-crime-moreno.edges, n:829, m:1475\n",
      "now_id:7, path:data/networkrepository/interaction/ia-email-univ/ia-email-univ.mtx, n:1133, m:5451\n",
      "now_id:8, path:data/networkrepository/interaction/ia-enron-only/ia-enron-only.mtx, n:143, m:623\n",
      "now_id:9, path:data/networkrepository/interaction/ia-fb-messages/ia-fb-messages.mtx, n:1266, m:6451\n",
      "now_id:10, path:data/networkrepository/interaction/ia-infect-dublin/ia-infect-dublin.mtx, n:410, m:2765\n",
      "now_id:11, path:data/networkrepository/interaction/ia-infect-hyper/ia-infect-hyper.mtx, n:113, m:2196\n",
      "now_id:12, path:data/networkrepository/miscellaneous/adjnoun/adjnoun.mtx, n:112, m:425\n",
      "now_id:13, path:data/networkrepository/miscellaneous/bcspwr03/bcspwr03.mtx, n:118, m:297\n",
      "now_id:14, path:data/networkrepository/miscellaneous/bibd_9_5/bibd_9_5.mtx, n:126, m:1217\n",
      "now_id:15, path:data/networkrepository/miscellaneous/can_144/can_144.mtx, n:144, m:720\n",
      "now_id:16, path:data/networkrepository/miscellaneous/polbooks/polbooks.mtx, n:105, m:441\n",
      "now_id:17, path:data/networkrepository/miscellaneous/flower_4_1/flower_4_1.mtx, n:129, m:380\n",
      "now_id:18, path:data/networkrepository/miscellaneous/fs-adjnoun_adj_copperfield/fs-adjnoun_adj_copperfield.edges, n:112, m:425\n",
      "now_id:19, path:data/networkrepository/miscellaneous/GD06_theory/GD06_theory.mtx, n:101, m:190\n",
      "now_id:20, path:data/networkrepository/miscellaneous/GD96_b/GD96_b.mtx, n:111, m:193\n"
     ]
    },
    {
     "name": "stderr",
     "output_type": "stream",
     "text": [
      "/Users/murakaminaoki/git/research/SPENet/spenet.py:52: RuntimeWarning: invalid value encountered in power\n",
      "  return lambda x: np.power(x, k)\n"
     ]
    },
    {
     "name": "stdout",
     "output_type": "stream",
     "text": [
      "now_id:21, path:data/networkrepository/miscellaneous/GD98_b/GD98_b.mtx, n:121, m:132\n",
      "now_id:22, path:data/networkrepository/miscellaneous/GD98_c/GD98_c.mtx, n:112, m:168\n",
      "now_id:23, path:data/networkrepository/miscellaneous/GD99_c/GD99_c.mtx, n:105, m:120\n",
      "now_id:24, path:data/networkrepository/miscellaneous/gent113/gent113.mtx, n:113, m:639\n",
      "now_id:25, path:data/networkrepository/bio/bio-CE-GT/bio-CE-GT.edges, n:924, m:3239\n",
      "now_id:26, path:data/networkrepository/bio/bio-CE-LC/bio-CE-LC.edges, n:1387, m:1648\n",
      "now_id:27, path:data/networkrepository/bio/bio-DM-LC/bio-DM-LC.edges, n:658, m:1129\n",
      "now_id:28, path:data/networkrepository/bio/bio-SC-TS/bio-SC-TS.edges, n:636, m:3959\n",
      "now_id:29, path:data/networkrepository/miscellaneous/eco-florida/eco-florida.edges, n:128, m:2075\n",
      "now_id:30, path:data/networkrepository/miscellaneous/eco-foodweb-baydry/eco-foodweb-baydry.edges, n:128, m:2106\n",
      "now_id:31, path:data/networkrepository/miscellaneous/gre_115/gre_115.mtx, n:115, m:382\n",
      "now_id:32, path:data/networkrepository/miscellaneous/gre_185/gre_185.mtx, n:185, m:835\n",
      "now_id:33, path:data/networkrepository/miscellaneous/IG5-7/IG5-7.mtx, n:136, m:549\n",
      "now_id:34, path:data/networkrepository/miscellaneous/jazz/jazz.mtx, n:198, m:2742\n",
      "now_id:35, path:data/networkrepository/miscellaneous/misc-football/misc-football.mtx, n:115, m:612\n",
      "now_id:36, path:data/networkrepository/miscellaneous/rw136/rw136.mtx, n:136, m:373\n",
      "now_id:37, path:data/networkrepository/miscellaneous/TF10/TF10.mtx, n:107, m:579\n",
      "now_id:38, path:data/networkrepository/miscellaneous/Trefethen_150/Trefethen_150.mtx, n:150, m:1095\n",
      "now_id:39, path:data/networkrepository/miscellaneous/Trefethen_200b/Trefethen_200b.mtx, n:199, m:1536\n"
     ]
    }
   ],
   "source": [
    "def add_relative_error(df, G, now_id):\n",
    "    gtypes = [\"normalized_laplacian\", \"laplacian\"]\n",
    "    for gtype in gtypes:\n",
    "        if gtype == \"normalized_laplacian\":\n",
    "            M = nx.normalized_laplacian_matrix(G)\n",
    "        elif gtype == \"laplacian\":\n",
    "            M = nx.laplacian_matrix(G)\n",
    "        elif gtype == \"adjacency\":\n",
    "            M = nx.adjacency_matrix(G)\n",
    "        \n",
    "        errors = []\n",
    "        exact = exact_spenet(M, k, method=\"eig\")\n",
    "        for seed in range(avg):\n",
    "            #ste = ste_spenet(M, k, nv=nv, seed=seed)\n",
    "            slq = slq_spenet(M, k, step=step, nv=nv, seed=seed)\n",
    "            errors.append(relative_error(slq, exact))\n",
    "        errors = np.array(errors)    \n",
    "        df = df.append({\"id\":now_id, \"relative_error\":errors.mean(), \"k\":k, \"matrix\":gtype},ignore_index=True)\n",
    "    return df\n",
    "\n",
    "df = pd.DataFrame(columns=[\"id\", \"relative_error\", \"k\", \"matrix\"])\n",
    "\n",
    "now_id = 0\n",
    "# unweighted_graphs\n",
    "is_weighted = False\n",
    "for path in unweighted_graphs:\n",
    "    G = load_graph(path, is_weighted)\n",
    "    n = G.number_of_nodes()\n",
    "    m = G.number_of_edges()\n",
    "    print(f\"now_id:{now_id}, path:{path}, n:{n}, m:{m}\")\n",
    "    df = add_relative_error(df, G, now_id)\n",
    "    now_id += 1\n",
    "\n",
    "\"\"\"\n",
    "# rodger_graphs\n",
    "is_weighted = False\n",
    "for path in rodger_graphs:\n",
    "    G = load_graph(path, is_weighted)\n",
    "    n = G.number_of_nodes()\n",
    "    m = G.number_of_edges()\n",
    "    print(f\"now_id:{now_id}, path:{path}, n:{n}, m:{m}\")\n",
    "    df = add_relative_error(df, G, now_id)\n",
    "    now_id += 1\n",
    "\"\"\"\n",
    "\n",
    "# weighted_graphs\n",
    "is_weighted = True\n",
    "for path in weighted_graphs:\n",
    "    G = load_graph(path, is_weighted)\n",
    "    n = G.number_of_nodes()\n",
    "    m = G.number_of_edges()\n",
    "    print(f\"now_id:{now_id}, path:{path}, n:{n}, m:{m}\")\n",
    "    df = add_relative_error(df, G, now_id)\n",
    "    now_id += 1\n"
   ]
  },
  {
   "cell_type": "code",
   "execution_count": 24,
   "metadata": {},
   "outputs": [
    {
     "data": {
      "text/html": [
       "<div>\n",
       "<style scoped>\n",
       "    .dataframe tbody tr th:only-of-type {\n",
       "        vertical-align: middle;\n",
       "    }\n",
       "\n",
       "    .dataframe tbody tr th {\n",
       "        vertical-align: top;\n",
       "    }\n",
       "\n",
       "    .dataframe thead th {\n",
       "        text-align: right;\n",
       "    }\n",
       "</style>\n",
       "<table border=\"1\" class=\"dataframe\">\n",
       "  <thead>\n",
       "    <tr style=\"text-align: right;\">\n",
       "      <th></th>\n",
       "      <th>id</th>\n",
       "      <th>relative_error</th>\n",
       "      <th>k</th>\n",
       "      <th>matrix</th>\n",
       "    </tr>\n",
       "  </thead>\n",
       "  <tbody>\n",
       "    <tr>\n",
       "      <th>40</th>\n",
       "      <td>20</td>\n",
       "      <td>0.071211</td>\n",
       "      <td>4.5</td>\n",
       "      <td>laplacian</td>\n",
       "    </tr>\n",
       "    <tr>\n",
       "      <th>41</th>\n",
       "      <td>20</td>\n",
       "      <td>0.013687</td>\n",
       "      <td>4.5</td>\n",
       "      <td>normalized_laplacian</td>\n",
       "    </tr>\n",
       "  </tbody>\n",
       "</table>\n",
       "</div>"
      ],
      "text/plain": [
       "    id  relative_error    k                matrix\n",
       "40  20        0.071211  4.5             laplacian\n",
       "41  20        0.013687  4.5  normalized_laplacian"
      ]
     },
     "execution_count": 24,
     "metadata": {},
     "output_type": "execute_result"
    }
   ],
   "source": [
    "df[df[\"id\"]==20]"
   ]
  },
  {
   "cell_type": "code",
   "execution_count": 27,
   "metadata": {},
   "outputs": [
    {
     "data": {
      "image/png": "[encoded data removed]",
      "text/plain": [
       "<Figure size 501.625x360 with 1 Axes>"
      ]
     },
     "metadata": {
      "needs_background": "light"
     },
     "output_type": "display_data"
    }
   ],
   "source": [
    "k = 4.5\n",
    "tmp_df = df[df[\"k\"]==k]\n",
    "ax = sns.relplot(\n",
    "    data=tmp_df,\n",
    "    x=\"id\", y=\"relative_error\",\n",
    "    hue=\"matrix\", style=\"matrix\"\n",
    ")\n",
    "ax.set(xlabel=\"Graph ID\",ylabel=\"rel. error\", yscale=\"log\", xticks=[]) #\n",
    "plt.savefig(f'plot/plot_each_graph_k{k}.png')\n",
    "plt.show()"
   ]
  },
  {
   "cell_type": "code",
   "execution_count": null,
   "metadata": {},
   "outputs": [],
   "source": []
  }
 ],
 "metadata": {
  "kernelspec": {
   "display_name": "Python 3",
   "language": "python",
   "name": "python3"
  },
  "language_info": {
   "codemirror_mode": {
    "name": "ipython",
    "version": 3
   },
   "file_extension": ".py",
   "mimetype": "text/x-python",
   "name": "python",
   "nbconvert_exporter": "python",
   "pygments_lexer": "ipython3",
   "version": "3.7.5"
  }
 },
 "nbformat": 4,
 "nbformat_minor": 4
}
