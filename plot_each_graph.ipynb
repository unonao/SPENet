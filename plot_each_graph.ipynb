{
 "cells": [
  {
   "cell_type": "code",
   "execution_count": 53,
   "metadata": {},
   "outputs": [],
   "source": [
    "import networkx as nx\n",
    "import numpy as np\n",
    "from spenet import slq_spenet, ste_spenet, exact_spenet\n",
    "from utils import load_graph, rodger_graphs, weighted_graphs, unweighted_graphs, relative_error\n",
    "import os\n",
    "import pandas as pd\n",
    "import matplotlib.pyplot as plt\n",
    "import seaborn as sns"
   ]
  },
  {
   "cell_type": "code",
   "execution_count": 54,
   "metadata": {},
   "outputs": [],
   "source": [
    "step = 10\n",
    "nv = 100\n",
    "avg = 10"
   ]
  },
  {
   "cell_type": "markdown",
   "metadata": {},
   "source": [
    "# 各グラフについて k=3,4 のとき"
   ]
  },
  {
   "cell_type": "code",
   "execution_count": 55,
   "metadata": {},
   "outputs": [],
   "source": [
    "# k の値を変えて実験する\n",
    "k = 4"
   ]
  },
  {
   "cell_type": "code",
   "execution_count": 56,
   "metadata": {},
   "outputs": [
    {
     "name": "stdout",
     "output_type": "stream",
     "text": [
      "now_id:0, name:bio-celegans,  path:data/networkrepository/bio/bio-celegans/bio-celegans.mtx, n:453, m:2025\n",
      "now_id:1, name:bio-celegans-dir,  path:data/networkrepository/bio/bio-celegans-dir/bio-celegans-dir.edges, n:453, m:2040\n",
      "now_id:2, name:bio-diseasome,  path:data/networkrepository/bio/bio-diseasome/bio-diseasome.mtx, n:516, m:1188\n",
      "now_id:3, name:ENZYMES_g295,  path:data/networkrepository/cheminformatics/ENZYMES_g295/ENZYMES_g295.edges, n:123, m:139\n",
      "now_id:4, name:ENZYMES_g296,  path:data/networkrepository/cheminformatics/ENZYMES_g296/ENZYMES_g296.edges, n:125, m:141\n",
      "now_id:5, name:ENZYMES_g297,  path:data/networkrepository/cheminformatics/ENZYMES_g297/ENZYMES_g297.edges, n:121, m:149\n",
      "now_id:6, name:ia-crime-moreno,  path:data/networkrepository/interaction/ia-crime-moreno/ia-crime-moreno.edges, n:829, m:1475\n",
      "now_id:7, name:ia-email-univ,  path:data/networkrepository/interaction/ia-email-univ/ia-email-univ.mtx, n:1133, m:5451\n",
      "now_id:8, name:ia-enron-only,  path:data/networkrepository/interaction/ia-enron-only/ia-enron-only.mtx, n:143, m:623\n",
      "now_id:9, name:ia-fb-messages,  path:data/networkrepository/interaction/ia-fb-messages/ia-fb-messages.mtx, n:1266, m:6451\n",
      "now_id:10, name:ia-infect-dublin,  path:data/networkrepository/interaction/ia-infect-dublin/ia-infect-dublin.mtx, n:410, m:2765\n",
      "now_id:11, name:ia-infect-hyper,  path:data/networkrepository/interaction/ia-infect-hyper/ia-infect-hyper.mtx, n:113, m:2196\n",
      "now_id:12, name:adjnoun,  path:data/networkrepository/miscellaneous/adjnoun/adjnoun.mtx, n:112, m:425\n",
      "now_id:13, name:bcspwr03,  path:data/networkrepository/miscellaneous/bcspwr03/bcspwr03.mtx, n:118, m:297\n",
      "now_id:14, name:bibd_9_5,  path:data/networkrepository/miscellaneous/bibd_9_5/bibd_9_5.mtx, n:126, m:1217\n",
      "now_id:15, name:can_144,  path:data/networkrepository/miscellaneous/can_144/can_144.mtx, n:144, m:720\n",
      "now_id:16, name:polbooks,  path:data/networkrepository/miscellaneous/polbooks/polbooks.mtx, n:105, m:441\n",
      "now_id:17, name:flower_4_1,  path:data/networkrepository/miscellaneous/flower_4_1/flower_4_1.mtx, n:129, m:380\n",
      "now_id:18, name:fs-adjnoun_adj_copperfield,  path:data/networkrepository/miscellaneous/fs-adjnoun_adj_copperfield/fs-adjnoun_adj_copperfield.edges, n:112, m:425\n",
      "now_id:19, name:GD06_theory,  path:data/networkrepository/miscellaneous/GD06_theory/GD06_theory.mtx, n:101, m:190\n",
      "now_id:20, name:GD96_b,  path:data/networkrepository/miscellaneous/GD96_b/GD96_b.mtx, n:111, m:193\n",
      "now_id:21, name:GD98_b,  path:data/networkrepository/miscellaneous/GD98_b/GD98_b.mtx, n:121, m:132\n",
      "now_id:22, name:GD98_c,  path:data/networkrepository/miscellaneous/GD98_c/GD98_c.mtx, n:112, m:168\n",
      "now_id:23, name:GD99_c,  path:data/networkrepository/miscellaneous/GD99_c/GD99_c.mtx, n:105, m:120\n",
      "now_id:24, name:gent113,  path:data/networkrepository/miscellaneous/gent113/gent113.mtx, n:113, m:639\n",
      "now_id:25, name:bio-CE-GT,  path:data/networkrepository/bio/bio-CE-GT/bio-CE-GT.edges, n:924, m:3239\n",
      "now_id:26, name:bio-CE-LC,  path:data/networkrepository/bio/bio-CE-LC/bio-CE-LC.edges, n:1387, m:1648\n",
      "now_id:27, name:bio-DM-LC,  path:data/networkrepository/bio/bio-DM-LC/bio-DM-LC.edges, n:658, m:1129\n",
      "now_id:28, name:bio-SC-TS,  path:data/networkrepository/bio/bio-SC-TS/bio-SC-TS.edges, n:636, m:3959\n",
      "now_id:29, name:eco-florida,  path:data/networkrepository/miscellaneous/eco-florida/eco-florida.edges, n:128, m:2075\n",
      "now_id:30, name:eco-foodweb-baydry,  path:data/networkrepository/miscellaneous/eco-foodweb-baydry/eco-foodweb-baydry.edges, n:128, m:2106\n",
      "now_id:31, name:gre_115,  path:data/networkrepository/miscellaneous/gre_115/gre_115.mtx, n:115, m:382\n",
      "now_id:32, name:gre_185,  path:data/networkrepository/miscellaneous/gre_185/gre_185.mtx, n:185, m:835\n",
      "now_id:33, name:IG5-7,  path:data/networkrepository/miscellaneous/IG5-7/IG5-7.mtx, n:136, m:549\n",
      "now_id:34, name:jazz,  path:data/networkrepository/miscellaneous/jazz/jazz.mtx, n:198, m:2742\n",
      "now_id:35, name:misc-football,  path:data/networkrepository/miscellaneous/misc-football/misc-football.mtx, n:115, m:612\n",
      "now_id:36, name:rw136,  path:data/networkrepository/miscellaneous/rw136/rw136.mtx, n:136, m:373\n",
      "now_id:37, name:TF10,  path:data/networkrepository/miscellaneous/TF10/TF10.mtx, n:107, m:579\n",
      "now_id:38, name:Trefethen_150,  path:data/networkrepository/miscellaneous/Trefethen_150/Trefethen_150.mtx, n:150, m:1095\n",
      "now_id:39, name:Trefethen_200b,  path:data/networkrepository/miscellaneous/Trefethen_200b/Trefethen_200b.mtx, n:199, m:1536\n"
     ]
    }
   ],
   "source": [
    "def add_relative_error(df, G, now_id, name):\n",
    "    gtypes = [\"normalized_laplacian\", \"laplacian\", \"adjacency\"]\n",
    "    for gtype in gtypes:\n",
    "        if gtype == \"normalized_laplacian\":\n",
    "            M = nx.normalized_laplacian_matrix(G)\n",
    "        elif gtype == \"laplacian\":\n",
    "            M = nx.laplacian_matrix(G)\n",
    "        elif gtype == \"adjacency\":\n",
    "            M = nx.adjacency_matrix(G)\n",
    "        \n",
    "        errors = []\n",
    "        exact = exact_spenet(M, k, method=\"prod\")\n",
    "        for seed in range(avg):\n",
    "            #ste = ste_spenet(M, k, nv=nv, seed=seed)\n",
    "            slq = slq_spenet(M, k, step=step, nv=nv, seed=seed)\n",
    "            errors.append(relative_error(slq, exact))\n",
    "        errors = np.array(errors)    \n",
    "        df = df.append({\"id\":now_id,\"name\":name, \"k\":k, \"matrix\":gtype,\"exact\":exact, \"relative_error\":errors.mean()},ignore_index=True)\n",
    "    return df\n",
    "\n",
    "df = pd.DataFrame(columns=[\"id\", \"name\", \"k\",  \"matrix\", \"exact\", \"relative_error\"])\n",
    "graph_df = pd.DataFrame(columns=[\"id\", \"name\",\"n\",\"m\",\"is_weighted\"])\n",
    "\n",
    "now_id = 0\n",
    "# unweighted_graphs\n",
    "is_weighted = False\n",
    "for path in unweighted_graphs:\n",
    "    G = load_graph(path, is_weighted)\n",
    "    \n",
    "    name = os.path.splitext(os.path.basename(path))[0]\n",
    "    n = G.number_of_nodes()\n",
    "    m = G.number_of_edges()\n",
    "    print(f\"now_id:{now_id}, name:{name},  path:{path}, n:{n}, m:{m}\")\n",
    "    graph_df = graph_df.append({\"id\":now_id, \"name\":name, \"n\":n, \"m\":m, \"is_weighted\":is_weighted},ignore_index=True)\n",
    "    df = add_relative_error(df, G, now_id, name)\n",
    "    now_id += 1\n",
    "\n",
    "\n",
    "# weighted_graphs\n",
    "is_weighted = True\n",
    "for path in weighted_graphs:\n",
    "    G = load_graph(path, is_weighted)\n",
    "    \n",
    "    name = os.path.splitext(os.path.basename(path))[0]\n",
    "    n = G.number_of_nodes()\n",
    "    m = G.number_of_edges()\n",
    "    print(f\"now_id:{now_id}, name:{name},  path:{path}, n:{n}, m:{m}\")\n",
    "    graph_df = graph_df.append({\"id\":now_id, \"name\":name, \"n\":n, \"m\":m, \"is_weighted\":is_weighted},ignore_index=True)\n",
    "    df = add_relative_error(df, G, now_id, name)\n",
    "    now_id += 1\n",
    "\n",
    "\n"
   ]
  },
  {
   "cell_type": "code",
   "execution_count": 57,
   "metadata": {},
   "outputs": [
    {
     "data": {
      "text/html": [
       "<div>\n",
       "<style scoped>\n",
       "    .dataframe tbody tr th:only-of-type {\n",
       "        vertical-align: middle;\n",
       "    }\n",
       "\n",
       "    .dataframe tbody tr th {\n",
       "        vertical-align: top;\n",
       "    }\n",
       "\n",
       "    .dataframe thead th {\n",
       "        text-align: right;\n",
       "    }\n",
       "</style>\n",
       "<table border=\"1\" class=\"dataframe\">\n",
       "  <thead>\n",
       "    <tr style=\"text-align: right;\">\n",
       "      <th></th>\n",
       "      <th>id</th>\n",
       "      <th>name</th>\n",
       "      <th>k</th>\n",
       "      <th>matrix</th>\n",
       "      <th>exact</th>\n",
       "      <th>relative_error</th>\n",
       "    </tr>\n",
       "  </thead>\n",
       "  <tbody>\n",
       "    <tr>\n",
       "      <th>0</th>\n",
       "      <td>0</td>\n",
       "      <td>bio-celegans</td>\n",
       "      <td>4</td>\n",
       "      <td>normalized_laplacian</td>\n",
       "      <td>7.304754e+02</td>\n",
       "      <td>0.003762</td>\n",
       "    </tr>\n",
       "    <tr>\n",
       "      <th>1</th>\n",
       "      <td>0</td>\n",
       "      <td>bio-celegans</td>\n",
       "      <td>4</td>\n",
       "      <td>laplacian</td>\n",
       "      <td>3.902614e+09</td>\n",
       "      <td>0.091421</td>\n",
       "    </tr>\n",
       "    <tr>\n",
       "      <th>2</th>\n",
       "      <td>0</td>\n",
       "      <td>bio-celegans</td>\n",
       "      <td>4</td>\n",
       "      <td>adjacency</td>\n",
       "      <td>7.230540e+05</td>\n",
       "      <td>0.101652</td>\n",
       "    </tr>\n",
       "    <tr>\n",
       "      <th>3</th>\n",
       "      <td>1</td>\n",
       "      <td>bio-celegans-dir</td>\n",
       "      <td>4</td>\n",
       "      <td>normalized_laplacian</td>\n",
       "      <td>7.121180e+02</td>\n",
       "      <td>0.004895</td>\n",
       "    </tr>\n",
       "    <tr>\n",
       "      <th>4</th>\n",
       "      <td>1</td>\n",
       "      <td>bio-celegans-dir</td>\n",
       "      <td>4</td>\n",
       "      <td>laplacian</td>\n",
       "      <td>3.902614e+09</td>\n",
       "      <td>0.125919</td>\n",
       "    </tr>\n",
       "  </tbody>\n",
       "</table>\n",
       "</div>"
      ],
      "text/plain": [
       "  id              name  k                matrix         exact  relative_error\n",
       "0  0      bio-celegans  4  normalized_laplacian  7.304754e+02        0.003762\n",
       "1  0      bio-celegans  4             laplacian  3.902614e+09        0.091421\n",
       "2  0      bio-celegans  4             adjacency  7.230540e+05        0.101652\n",
       "3  1  bio-celegans-dir  4  normalized_laplacian  7.121180e+02        0.004895\n",
       "4  1  bio-celegans-dir  4             laplacian  3.902614e+09        0.125919"
      ]
     },
     "execution_count": 57,
     "metadata": {},
     "output_type": "execute_result"
    }
   ],
   "source": [
    "df.head()"
   ]
  },
  {
   "cell_type": "code",
   "execution_count": 58,
   "metadata": {},
   "outputs": [
    {
     "data": {
      "text/html": [
       "<div>\n",
       "<style scoped>\n",
       "    .dataframe tbody tr th:only-of-type {\n",
       "        vertical-align: middle;\n",
       "    }\n",
       "\n",
       "    .dataframe tbody tr th {\n",
       "        vertical-align: top;\n",
       "    }\n",
       "\n",
       "    .dataframe thead th {\n",
       "        text-align: right;\n",
       "    }\n",
       "</style>\n",
       "<table border=\"1\" class=\"dataframe\">\n",
       "  <thead>\n",
       "    <tr style=\"text-align: right;\">\n",
       "      <th></th>\n",
       "      <th>id</th>\n",
       "      <th>name</th>\n",
       "      <th>k</th>\n",
       "      <th>matrix</th>\n",
       "      <th>exact</th>\n",
       "      <th>relative_error</th>\n",
       "    </tr>\n",
       "  </thead>\n",
       "  <tbody>\n",
       "  </tbody>\n",
       "</table>\n",
       "</div>"
      ],
      "text/plain": [
       "Empty DataFrame\n",
       "Columns: [id, name, k, matrix, exact, relative_error]\n",
       "Index: []"
      ]
     },
     "execution_count": 58,
     "metadata": {},
     "output_type": "execute_result"
    }
   ],
   "source": [
    "df[df[\"relative_error\"]>1]"
   ]
  },
  {
   "cell_type": "code",
   "execution_count": 59,
   "metadata": {},
   "outputs": [
    {
     "data": {
      "text/html": [
       "<div>\n",
       "<style scoped>\n",
       "    .dataframe tbody tr th:only-of-type {\n",
       "        vertical-align: middle;\n",
       "    }\n",
       "\n",
       "    .dataframe tbody tr th {\n",
       "        vertical-align: top;\n",
       "    }\n",
       "\n",
       "    .dataframe thead th {\n",
       "        text-align: right;\n",
       "    }\n",
       "</style>\n",
       "<table border=\"1\" class=\"dataframe\">\n",
       "  <thead>\n",
       "    <tr style=\"text-align: right;\">\n",
       "      <th></th>\n",
       "      <th>id</th>\n",
       "      <th>name</th>\n",
       "      <th>n</th>\n",
       "      <th>m</th>\n",
       "      <th>is_weighted</th>\n",
       "    </tr>\n",
       "  </thead>\n",
       "  <tbody>\n",
       "    <tr>\n",
       "      <th>0</th>\n",
       "      <td>0</td>\n",
       "      <td>bio-celegans</td>\n",
       "      <td>453</td>\n",
       "      <td>2025</td>\n",
       "      <td>False</td>\n",
       "    </tr>\n",
       "    <tr>\n",
       "      <th>1</th>\n",
       "      <td>1</td>\n",
       "      <td>bio-celegans-dir</td>\n",
       "      <td>453</td>\n",
       "      <td>2040</td>\n",
       "      <td>False</td>\n",
       "    </tr>\n",
       "    <tr>\n",
       "      <th>2</th>\n",
       "      <td>2</td>\n",
       "      <td>bio-diseasome</td>\n",
       "      <td>516</td>\n",
       "      <td>1188</td>\n",
       "      <td>False</td>\n",
       "    </tr>\n",
       "    <tr>\n",
       "      <th>3</th>\n",
       "      <td>3</td>\n",
       "      <td>ENZYMES_g295</td>\n",
       "      <td>123</td>\n",
       "      <td>139</td>\n",
       "      <td>False</td>\n",
       "    </tr>\n",
       "    <tr>\n",
       "      <th>4</th>\n",
       "      <td>4</td>\n",
       "      <td>ENZYMES_g296</td>\n",
       "      <td>125</td>\n",
       "      <td>141</td>\n",
       "      <td>False</td>\n",
       "    </tr>\n",
       "  </tbody>\n",
       "</table>\n",
       "</div>"
      ],
      "text/plain": [
       "  id              name    n     m is_weighted\n",
       "0  0      bio-celegans  453  2025       False\n",
       "1  1  bio-celegans-dir  453  2040       False\n",
       "2  2     bio-diseasome  516  1188       False\n",
       "3  3      ENZYMES_g295  123   139       False\n",
       "4  4      ENZYMES_g296  125   141       False"
      ]
     },
     "execution_count": 59,
     "metadata": {},
     "output_type": "execute_result"
    }
   ],
   "source": [
    "graph_df.head()"
   ]
  },
  {
   "cell_type": "code",
   "execution_count": 60,
   "metadata": {},
   "outputs": [
    {
     "data": {
      "image/png": "[encoded data removed]",
      "text/plain": [
       "<Figure size 501.625x360 with 1 Axes>"
      ]
     },
     "metadata": {
      "needs_background": "light"
     },
     "output_type": "display_data"
    }
   ],
   "source": [
    "tmp_df = df[df[\"k\"]==k]\n",
    "ax = sns.relplot(\n",
    "    data=tmp_df,\n",
    "    x=\"id\", y=\"relative_error\",\n",
    "    hue=\"matrix\", style=\"matrix\"\n",
    ")\n",
    "ax.set(xlabel=\"Graph ID\",ylabel=\"rel. error\", yscale=\"log\", ylim=[1e-3, 1], xticks=[]) #\n",
    "plt.savefig(f'plot/plot_each_graph_k{k}.png')\n",
    "plt.show()"
   ]
  },
  {
   "cell_type": "code",
   "execution_count": null,
   "metadata": {},
   "outputs": [],
   "source": []
  },
  {
   "cell_type": "code",
   "execution_count": 50,
   "metadata": {},
   "outputs": [
    {
     "name": "stdout",
     "output_type": "stream",
     "text": [
      "bio-celegans & 1.970e+04 & 0.12352 & 2.106e+07 & 0.06977 & 5.931e+02 & 0.00302\\\\\n",
      "bio-celegans-dir & 2.130e+04 & 0.15158 & 2.106e+07 & 0.09613 & 5.825e+02 & 0.00403\\\\\n",
      "bio-diseasome & 8.160e+03 & 0.03805 & 4.305e+05 & 0.04023 & 8.243e+02 & 0.00559\\\\\n",
      "ENZYMES\\_g295 & 1.200e+01 & 0.51855 & 4.238e+03 & 0.01685 & 2.880e+02 & 0.00933\\\\\n",
      "ENZYMES\\_g296 & 1.200e+01 & 0.83381 & 4.050e+03 & 0.01630 & 2.931e+02 & 0.01071\\\\\n",
      "ENZYMES\\_g297 & 5.400e+01 & 0.21166 & 5.458e+03 & 0.02121 & 2.710e+02 & 0.00949\\\\\n",
      "ia-crime-moreno & 1.640e+02 & 0.73894 & 2.284e+05 & 0.00732 & 1.431e+03 & 0.00475\\\\\n",
      "ia-email-univ & 3.206e+04 & 0.03573 & 6.076e+06 & 0.01340 & 1.496e+03 & 0.00352\\\\\n",
      "ia-enron-only & 5.334e+03 & 0.05443 & 3.260e+05 & 0.02250 & 1.929e+02 & 0.00604\\\\\n",
      "ia-fb-messages & 1.495e+04 & 0.26510 & 1.793e+07 & 0.02107 & 1.644e+03 & 0.00211\\\\\n",
      "ia-infect-dublin & 4.268e+04 & 0.04542 & 2.653e+06 & 0.01041 & 5.074e+02 & 0.00514\\\\\n",
      "ia-infect-hyper & 1.012e+05 & 0.08505 & 1.201e+07 & 0.01640 & 1.204e+02 & 0.00355\\\\\n",
      "adjnoun & 1.704e+03 & 0.13554 & 3.067e+05 & 0.03379 & 1.532e+02 & 0.01010\\\\\n",
      "bcspwr03 & 1.330e+03 & 0.01962 & 1.052e+04 & 0.02238 & 8.858e+01 & 0.01124\\\\\n",
      "bibd\\_9\\_5 & 1.734e+04 & 0.08087 & 2.941e+06 & 0.02195 & 1.379e+02 & 0.00534\\\\\n",
      "can\\_144 & 9.072e+03 & 0.02465 & 1.348e+05 & 0.00642 & 1.274e+02 & 0.00321\\\\\n",
      "polbooks & 3.360e+03 & 0.07925 & 1.942e+05 & 0.01643 & 1.388e+02 & 0.00502\\\\\n",
      "flower\\_4\\_1 & 2.960e+02 & 0.22451 & 4.469e+04 & 0.01172 & 1.888e+02 & 0.01103\\\\\n",
      "fs-adjnoun\\_adj\\_copperfield & 1.704e+03 & 0.12304 & 3.067e+05 & 0.04755 & 1.532e+02 & 0.01067\\\\\n",
      "GD06\\_theory & 0.000e+00 & inf & 8.252e+04 & 0.05384 & 1.297e+02 & 0.01430\\\\\n",
      "GD96\\_b & 0.000e+00 & inf & 1.705e+05 & 0.04754 & 1.643e+02 & 0.00865\\\\\n",
      "GD98\\_b & 0.000e+00 & inf & 9.006e+03 & 0.04821 & 2.525e+02 & 0.01202\\\\\n",
      "GD98\\_c & 0.000e+00 & inf & 6.048e+03 & 0.01085 & 2.240e+02 & 0.01085\\\\\n",
      "GD99\\_c & 1.200e+01 & 0.47025 & 4.188e+03 & 0.01764 & 2.336e+02 & 0.01331\\\\\n",
      "gent113 & 5.718e+03 & 0.06876 & 2.759e+05 & 0.01604 & 9.869e+01 & 0.01053\\\\\n",
      "bio-CE-GT & 2.892e+05 & 0.13453 & 1.462e+08 & 0.03521 & 1.247e+03 & 0.00370\\\\\n",
      "bio-CE-LC & 2.756e+04 & 0.11485 & 1.754e+07 & 0.07303 & 2.628e+03 & 0.00551\\\\\n",
      "bio-DM-LC & 4.865e+04 & 0.46453 & 2.852e+07 & 0.04627 & 1.338e+03 & 0.00463\\\\\n",
      "bio-SC-TS & 1.211e+07 & 0.10717 & 8.366e+08 & 0.01198 & 1.149e+03 & 0.00299\\\\\n",
      "eco-florida & 5.750e+07 & 0.31274 & 3.990e+09 & 0.07063 & 1.410e+02 & 0.00527\\\\\n",
      "eco-foodweb-baydry & 1.343e+07 & 0.83741 & 1.751e+09 & 0.08539 & 1.406e+02 & 0.00497\\\\\n",
      "gre\\_115 & 6.026e+01 & 0.01424 & 1.452e+02 & 0.00824 & 5.337e+01 & 0.01071\\\\\n",
      "gre\\_185 & 5.860e+01 & 0.01398 & 3.152e+02 & 0.01621 & 1.511e+02 & 0.01107\\\\\n",
      "IG5-7 & 0.000e+00 & inf & 2.173e+06 & 0.03258 & 1.826e+02 & 0.00755\\\\\n",
      "jazz & 8.592e+05 & 0.11688 & 8.523e+07 & 0.01249 & 2.221e+02 & 0.00566\\\\\n",
      "misc-football & 4.920e+03 & 0.04891 & 1.789e+05 & 0.00721 & 1.437e+02 & 0.00653\\\\\n",
      "rw136 & 1.689e+01 & 0.12035 & 7.461e+02 & 0.01435 & 2.336e+02 & 0.01304\\\\\n",
      "TF10 & 1.132e+04 & 0.05180 & 6.611e+05 & 0.01038 & 1.382e+02 & 0.00976\\\\\n",
      "Trefethen\\_150 & 2.164e+10 & 0.01076 & 3.739e+05 & 0.00711 & 2.241e+00 & 0.05102\\\\\n",
      "Trefethen\\_200b & 8.051e+10 & 0.00708 & 5.962e+05 & 0.00356 & 1.553e+00 & 0.05127\\\\\n"
     ]
    }
   ],
   "source": [
    "# latex 用に出力する\n",
    "\n",
    "for index in range(now_id):\n",
    "    name = graph_df[graph_df[\"id\"]==index][\"name\"].values[0]\n",
    "    gtypes = [ \"adjacency\", \"laplacian\", \"normalized_laplacian\"]\n",
    "    print_row = name.replace(\"_\", \"\\_\")\n",
    "    for gtype in gtypes:\n",
    "        exact = df.query(\"id==@index and matrix==@gtype\")[\"exact\"].values[0]\n",
    "        relative_error = df.query(\"id==@index and matrix==@gtype\")[\"relative_error\"].values[0]\n",
    "        print_row += f\" & {exact:.3e} & {relative_error:.5f}\"\n",
    "    print_row += \"\\\\\\\\\"\n",
    "    print(print_row)\n"
   ]
  },
  {
   "cell_type": "code",
   "execution_count": 40,
   "metadata": {},
   "outputs": [
    {
     "name": "stdout",
     "output_type": "stream",
     "text": [
      "bio-celegans & 453 & 2025 & 8.94 & 9.89e-03 & unweighted\\\\\n",
      "bio-celegans-dir & 453 & 2040 & 9.01 & 9.96e-03 & unweighted\\\\\n",
      "bio-diseasome & 516 & 1188 & 4.60 & 4.47e-03 & unweighted\\\\\n",
      "ENZYMES\\_g295 & 123 & 139 & 2.26 & 9.26e-03 & unweighted\\\\\n",
      "ENZYMES\\_g296 & 125 & 141 & 2.26 & 9.10e-03 & unweighted\\\\\n",
      "ENZYMES\\_g297 & 121 & 149 & 2.46 & 1.03e-02 & unweighted\\\\\n",
      "ia-crime-moreno & 829 & 1475 & 3.56 & 2.15e-03 & unweighted\\\\\n",
      "ia-email-univ & 1133 & 5451 & 9.62 & 4.25e-03 & unweighted\\\\\n",
      "ia-enron-only & 143 & 623 & 8.71 & 3.07e-02 & unweighted\\\\\n",
      "ia-fb-messages & 1266 & 6451 & 10.19 & 4.03e-03 & unweighted\\\\\n",
      "ia-infect-dublin & 410 & 2765 & 13.49 & 1.65e-02 & unweighted\\\\\n",
      "ia-infect-hyper & 113 & 2196 & 38.87 & 1.74e-01 & unweighted\\\\\n",
      "adjnoun & 112 & 425 & 7.59 & 3.42e-02 & unweighted\\\\\n",
      "bcspwr03 & 118 & 297 & 5.03 & 2.15e-02 & unweighted\\\\\n",
      "bibd\\_9\\_5 & 126 & 1217 & 19.32 & 7.73e-02 & unweighted\\\\\n",
      "can\\_144 & 144 & 720 & 10.00 & 3.50e-02 & unweighted\\\\\n",
      "polbooks & 105 & 441 & 8.40 & 4.04e-02 & unweighted\\\\\n",
      "flower\\_4\\_1 & 129 & 380 & 5.89 & 2.30e-02 & unweighted\\\\\n",
      "fs-adjnoun\\_adj\\_copperfield & 112 & 425 & 7.59 & 3.42e-02 & unweighted\\\\\n",
      "GD06\\_theory & 101 & 190 & 3.76 & 1.88e-02 & unweighted\\\\\n",
      "GD96\\_b & 111 & 193 & 3.48 & 1.58e-02 & unweighted\\\\\n",
      "GD98\\_b & 121 & 132 & 2.18 & 9.09e-03 & unweighted\\\\\n",
      "GD98\\_c & 112 & 168 & 3.00 & 1.35e-02 & unweighted\\\\\n",
      "GD99\\_c & 105 & 120 & 2.29 & 1.10e-02 & unweighted\\\\\n",
      "gent113 & 113 & 639 & 11.31 & 5.05e-02 & unweighted\\\\\n",
      "bio-CE-GT & 924 & 3239 & 7.01 & 3.80e-03 & weighted\\\\\n",
      "bio-CE-LC & 1387 & 1648 & 2.38 & 8.57e-04 & weighted\\\\\n",
      "bio-DM-LC & 658 & 1129 & 3.43 & 2.61e-03 & weighted\\\\\n",
      "bio-SC-TS & 636 & 3959 & 12.45 & 9.80e-03 & weighted\\\\\n",
      "eco-florida & 128 & 2075 & 32.42 & 1.28e-01 & weighted\\\\\n",
      "eco-foodweb-baydry & 128 & 2106 & 32.91 & 1.30e-01 & weighted\\\\\n",
      "gre\\_115 & 115 & 382 & 6.64 & 2.91e-02 & weighted\\\\\n",
      "gre\\_185 & 185 & 835 & 9.03 & 2.45e-02 & weighted\\\\\n",
      "IG5-7 & 136 & 549 & 8.07 & 2.99e-02 & weighted\\\\\n",
      "jazz & 198 & 2742 & 27.70 & 7.03e-02 & weighted\\\\\n",
      "misc-football & 115 & 612 & 10.64 & 4.67e-02 & weighted\\\\\n",
      "rw136 & 136 & 373 & 5.49 & 2.03e-02 & weighted\\\\\n",
      "TF10 & 107 & 579 & 10.82 & 5.10e-02 & weighted\\\\\n",
      "Trefethen\\_150 & 150 & 1095 & 14.60 & 4.90e-02 & weighted\\\\\n",
      "Trefethen\\_200b & 199 & 1536 & 15.44 & 3.90e-02 & weighted\\\\\n"
     ]
    }
   ],
   "source": [
    "# latex 用にグラフごとの詳細を出力\n",
    "\n",
    "for index in range(now_id):\n",
    "    name = graph_df[graph_df[\"id\"]==index][\"name\"].values[0]\n",
    "    n = graph_df[graph_df[\"id\"]==index][\"n\"].values[0]\n",
    "    m = graph_df[graph_df[\"id\"]==index][\"m\"].values[0]\n",
    "    avg_deg = 2*m/n\n",
    "    density = m/(n*(n-1))\n",
    "    is_weighted  = graph_df[graph_df[\"id\"]==index][\"is_weighted\"].values[0]\n",
    "    print_row = name.replace(\"_\", \"\\_\")\n",
    "    print_row += f\" & {n}\"\n",
    "    print_row += f\" & {m}\"\n",
    "    print_row += f\" & {avg_deg:.2f}\"\n",
    "    print_row += f\" & {density:.2e}\"\n",
    "    print_row += \" & weighted\" if is_weighted else \" & unweighted\"\n",
    "    print_row += \"\\\\\\\\\"\n",
    "    print(print_row)\n",
    "\n"
   ]
  },
  {
   "cell_type": "code",
   "execution_count": null,
   "metadata": {},
   "outputs": [],
   "source": []
  },
  {
   "cell_type": "code",
   "execution_count": null,
   "metadata": {},
   "outputs": [],
   "source": []
  },
  {
   "cell_type": "code",
   "execution_count": null,
   "metadata": {},
   "outputs": [],
   "source": []
  },
  {
   "cell_type": "markdown",
   "metadata": {},
   "source": [
    "# k=4.5 のとき"
   ]
  },
  {
   "cell_type": "code",
   "execution_count": 13,
   "metadata": {},
   "outputs": [],
   "source": [
    "k=4.5"
   ]
  },
  {
   "cell_type": "code",
   "execution_count": 26,
   "metadata": {},
   "outputs": [
    {
     "name": "stdout",
     "output_type": "stream",
     "text": [
      "now_id:0, path:data/networkrepository/bio/bio-celegans/bio-celegans.mtx, n:453, m:2025\n",
      "now_id:1, path:data/networkrepository/bio/bio-celegans-dir/bio-celegans-dir.edges, n:453, m:2040\n",
      "now_id:2, path:data/networkrepository/bio/bio-diseasome/bio-diseasome.mtx, n:516, m:1188\n",
      "now_id:3, path:data/networkrepository/cheminformatics/ENZYMES_g295/ENZYMES_g295.edges, n:123, m:139\n",
      "now_id:4, path:data/networkrepository/cheminformatics/ENZYMES_g296/ENZYMES_g296.edges, n:125, m:141\n",
      "now_id:5, path:data/networkrepository/cheminformatics/ENZYMES_g297/ENZYMES_g297.edges, n:121, m:149\n",
      "now_id:6, path:data/networkrepository/interaction/ia-crime-moreno/ia-crime-moreno.edges, n:829, m:1475\n",
      "now_id:7, path:data/networkrepository/interaction/ia-email-univ/ia-email-univ.mtx, n:1133, m:5451\n",
      "now_id:8, path:data/networkrepository/interaction/ia-enron-only/ia-enron-only.mtx, n:143, m:623\n",
      "now_id:9, path:data/networkrepository/interaction/ia-fb-messages/ia-fb-messages.mtx, n:1266, m:6451\n",
      "now_id:10, path:data/networkrepository/interaction/ia-infect-dublin/ia-infect-dublin.mtx, n:410, m:2765\n",
      "now_id:11, path:data/networkrepository/interaction/ia-infect-hyper/ia-infect-hyper.mtx, n:113, m:2196\n",
      "now_id:12, path:data/networkrepository/miscellaneous/adjnoun/adjnoun.mtx, n:112, m:425\n",
      "now_id:13, path:data/networkrepository/miscellaneous/bcspwr03/bcspwr03.mtx, n:118, m:297\n",
      "now_id:14, path:data/networkrepository/miscellaneous/bibd_9_5/bibd_9_5.mtx, n:126, m:1217\n",
      "now_id:15, path:data/networkrepository/miscellaneous/can_144/can_144.mtx, n:144, m:720\n",
      "now_id:16, path:data/networkrepository/miscellaneous/polbooks/polbooks.mtx, n:105, m:441\n",
      "now_id:17, path:data/networkrepository/miscellaneous/flower_4_1/flower_4_1.mtx, n:129, m:380\n",
      "now_id:18, path:data/networkrepository/miscellaneous/fs-adjnoun_adj_copperfield/fs-adjnoun_adj_copperfield.edges, n:112, m:425\n",
      "now_id:19, path:data/networkrepository/miscellaneous/GD06_theory/GD06_theory.mtx, n:101, m:190\n",
      "now_id:20, path:data/networkrepository/miscellaneous/GD96_b/GD96_b.mtx, n:111, m:193\n"
     ]
    },
    {
     "name": "stderr",
     "output_type": "stream",
     "text": [
      "/Users/murakaminaoki/git/research/SPENet/spenet.py:52: RuntimeWarning: invalid value encountered in power\n",
      "  return lambda x: np.power(x, k)\n"
     ]
    },
    {
     "name": "stdout",
     "output_type": "stream",
     "text": [
      "now_id:21, path:data/networkrepository/miscellaneous/GD98_b/GD98_b.mtx, n:121, m:132\n",
      "now_id:22, path:data/networkrepository/miscellaneous/GD98_c/GD98_c.mtx, n:112, m:168\n",
      "now_id:23, path:data/networkrepository/miscellaneous/GD99_c/GD99_c.mtx, n:105, m:120\n",
      "now_id:24, path:data/networkrepository/miscellaneous/gent113/gent113.mtx, n:113, m:639\n",
      "now_id:25, path:data/networkrepository/bio/bio-CE-GT/bio-CE-GT.edges, n:924, m:3239\n",
      "now_id:26, path:data/networkrepository/bio/bio-CE-LC/bio-CE-LC.edges, n:1387, m:1648\n",
      "now_id:27, path:data/networkrepository/bio/bio-DM-LC/bio-DM-LC.edges, n:658, m:1129\n",
      "now_id:28, path:data/networkrepository/bio/bio-SC-TS/bio-SC-TS.edges, n:636, m:3959\n",
      "now_id:29, path:data/networkrepository/miscellaneous/eco-florida/eco-florida.edges, n:128, m:2075\n",
      "now_id:30, path:data/networkrepository/miscellaneous/eco-foodweb-baydry/eco-foodweb-baydry.edges, n:128, m:2106\n",
      "now_id:31, path:data/networkrepository/miscellaneous/gre_115/gre_115.mtx, n:115, m:382\n",
      "now_id:32, path:data/networkrepository/miscellaneous/gre_185/gre_185.mtx, n:185, m:835\n",
      "now_id:33, path:data/networkrepository/miscellaneous/IG5-7/IG5-7.mtx, n:136, m:549\n",
      "now_id:34, path:data/networkrepository/miscellaneous/jazz/jazz.mtx, n:198, m:2742\n",
      "now_id:35, path:data/networkrepository/miscellaneous/misc-football/misc-football.mtx, n:115, m:612\n",
      "now_id:36, path:data/networkrepository/miscellaneous/rw136/rw136.mtx, n:136, m:373\n",
      "now_id:37, path:data/networkrepository/miscellaneous/TF10/TF10.mtx, n:107, m:579\n",
      "now_id:38, path:data/networkrepository/miscellaneous/Trefethen_150/Trefethen_150.mtx, n:150, m:1095\n",
      "now_id:39, path:data/networkrepository/miscellaneous/Trefethen_200b/Trefethen_200b.mtx, n:199, m:1536\n"
     ]
    }
   ],
   "source": [
    "def add_relative_error(df, G, now_id):\n",
    "    gtypes = [\"normalized_laplacian\", \"laplacian\"]\n",
    "    for gtype in gtypes:\n",
    "        if gtype == \"normalized_laplacian\":\n",
    "            M = nx.normalized_laplacian_matrix(G)\n",
    "        elif gtype == \"laplacian\":\n",
    "            M = nx.laplacian_matrix(G)\n",
    "        elif gtype == \"adjacency\":\n",
    "            M = nx.adjacency_matrix(G)\n",
    "        \n",
    "        errors = []\n",
    "        exact = exact_spenet(M, k, method=\"eig\")\n",
    "        for seed in range(avg):\n",
    "            #ste = ste_spenet(M, k, nv=nv, seed=seed)\n",
    "            slq = slq_spenet(M, k, step=step, nv=nv, seed=seed)\n",
    "            errors.append(relative_error(slq, exact))\n",
    "        errors = np.array(errors)    \n",
    "        df = df.append({\"id\":now_id, \"relative_error\":errors.mean(), \"k\":k, \"matrix\":gtype},ignore_index=True)\n",
    "    return df\n",
    "\n",
    "df = pd.DataFrame(columns=[\"id\", \"relative_error\", \"k\", \"matrix\"])\n",
    "\n",
    "now_id = 0\n",
    "# unweighted_graphs\n",
    "is_weighted = False\n",
    "for path in unweighted_graphs:\n",
    "    G = load_graph(path, is_weighted)\n",
    "    n = G.number_of_nodes()\n",
    "    m = G.number_of_edges()\n",
    "    print(f\"now_id:{now_id}, path:{path}, n:{n}, m:{m}\")\n",
    "    df = add_relative_error(df, G, now_id)\n",
    "    now_id += 1\n",
    "\n",
    "\"\"\"\n",
    "# rodger_graphs\n",
    "is_weighted = False\n",
    "for path in rodger_graphs:\n",
    "    G = load_graph(path, is_weighted)\n",
    "    n = G.number_of_nodes()\n",
    "    m = G.number_of_edges()\n",
    "    print(f\"now_id:{now_id}, path:{path}, n:{n}, m:{m}\")\n",
    "    df = add_relative_error(df, G, now_id)\n",
    "    now_id += 1\n",
    "\"\"\"\n",
    "\n",
    "# weighted_graphs\n",
    "is_weighted = True\n",
    "for path in weighted_graphs:\n",
    "    G = load_graph(path, is_weighted)\n",
    "    n = G.number_of_nodes()\n",
    "    m = G.number_of_edges()\n",
    "    print(f\"now_id:{now_id}, path:{path}, n:{n}, m:{m}\")\n",
    "    df = add_relative_error(df, G, now_id)\n",
    "    now_id += 1\n"
   ]
  },
  {
   "cell_type": "code",
   "execution_count": 24,
   "metadata": {},
   "outputs": [
    {
     "data": {
      "text/html": [
       "<div>\n",
       "<style scoped>\n",
       "    .dataframe tbody tr th:only-of-type {\n",
       "        vertical-align: middle;\n",
       "    }\n",
       "\n",
       "    .dataframe tbody tr th {\n",
       "        vertical-align: top;\n",
       "    }\n",
       "\n",
       "    .dataframe thead th {\n",
       "        text-align: right;\n",
       "    }\n",
       "</style>\n",
       "<table border=\"1\" class=\"dataframe\">\n",
       "  <thead>\n",
       "    <tr style=\"text-align: right;\">\n",
       "      <th></th>\n",
       "      <th>id</th>\n",
       "      <th>relative_error</th>\n",
       "      <th>k</th>\n",
       "      <th>matrix</th>\n",
       "    </tr>\n",
       "  </thead>\n",
       "  <tbody>\n",
       "    <tr>\n",
       "      <th>40</th>\n",
       "      <td>20</td>\n",
       "      <td>0.071211</td>\n",
       "      <td>4.5</td>\n",
       "      <td>laplacian</td>\n",
       "    </tr>\n",
       "    <tr>\n",
       "      <th>41</th>\n",
       "      <td>20</td>\n",
       "      <td>0.013687</td>\n",
       "      <td>4.5</td>\n",
       "      <td>normalized_laplacian</td>\n",
       "    </tr>\n",
       "  </tbody>\n",
       "</table>\n",
       "</div>"
      ],
      "text/plain": [
       "    id  relative_error    k                matrix\n",
       "40  20        0.071211  4.5             laplacian\n",
       "41  20        0.013687  4.5  normalized_laplacian"
      ]
     },
     "execution_count": 24,
     "metadata": {},
     "output_type": "execute_result"
    }
   ],
   "source": [
    "df[df[\"id\"]==20]"
   ]
  },
  {
   "cell_type": "code",
   "execution_count": 27,
   "metadata": {},
   "outputs": [
    {
     "data": {
      "image/png": "[encoded data removed]",
      "text/plain": [
       "<Figure size 501.625x360 with 1 Axes>"
      ]
     },
     "metadata": {
      "needs_background": "light"
     },
     "output_type": "display_data"
    }
   ],
   "source": [
    "k = 4.5\n",
    "tmp_df = df[df[\"k\"]==k]\n",
    "ax = sns.relplot(\n",
    "    data=tmp_df,\n",
    "    x=\"id\", y=\"relative_error\",\n",
    "    hue=\"matrix\", style=\"matrix\"\n",
    ")\n",
    "ax.set(xlabel=\"Graph ID\",ylabel=\"rel. error\", yscale=\"log\", xticks=[]) #\n",
    "plt.savefig(f'plot/plot_each_graph_k{k}.png')\n",
    "plt.show()"
   ]
  },
  {
   "cell_type": "code",
   "execution_count": null,
   "metadata": {},
   "outputs": [],
   "source": []
  }
 ],
 "metadata": {
  "kernelspec": {
   "display_name": "Python 3",
   "language": "python",
   "name": "python3"
  },
  "language_info": {
   "codemirror_mode": {
    "name": "ipython",
    "version": 3
   },
   "file_extension": ".py",
   "mimetype": "text/x-python",
   "name": "python",
   "nbconvert_exporter": "python",
   "pygments_lexer": "ipython3",
   "version": "3.7.5"
  }
 },
 "nbformat": 4,
 "nbformat_minor": 4
}
